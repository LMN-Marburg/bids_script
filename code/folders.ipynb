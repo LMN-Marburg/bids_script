{
 "cells": [
  {
   "cell_type": "markdown",
   "metadata": {},
   "source": [
    "# Folders\n",
    "This script creates folders and subfolders as specified in BIDS."
   ]
  },
  {
   "cell_type": "code",
   "execution_count": 1,
   "metadata": {},
   "outputs": [
    {
     "data": {
      "text/plain": [
       "'/media/sf_mikke/Documents/Master/Vertiefung/data/main_data'"
      ]
     },
     "execution_count": 1,
     "metadata": {},
     "output_type": "execute_result"
    }
   ],
   "source": [
    "import os\n",
    "# define path -> CHANGE IF NECESSARY!\n",
    "os.chdir(\"..\")\n",
    "os.getcwd()"
   ]
  },
  {
   "cell_type": "code",
   "execution_count": 2,
   "metadata": {},
   "outputs": [
    {
     "name": "stdout",
     "output_type": "stream",
     "text": [
      "Creation of directory sub-01 failed\n",
      "Creation of directory sub-02 failed\n",
      "Creation of directory sub-03 failed\n",
      "Creation of directory sub-04 failed\n",
      "Creation of directory sub-05 failed\n",
      "Creation of directory sub-06 failed\n",
      "Creation of directory sub-07 failed\n",
      "Creation of directory sub-08 failed\n",
      "Successfully created the directory sub-09\n",
      "Successfully created the directory sub-10\n"
     ]
    }
   ],
   "source": [
    "subjects = 10\n",
    "for i in range(subjects):\n",
    "    if i+1 < 10:\n",
    "        sub = \"0{}\".format(i+1)\n",
    "    else:\n",
    "        sub = str(i+1)\n",
    "    path = \"sub-{}\".format(sub)\n",
    "    try:\n",
    "        os.makedirs(path+\"/anat\")\n",
    "        os.makedirs(path+\"/fmap\")\n",
    "        os.makedirs(path+\"/func\")\n",
    "    except OSError:\n",
    "        print(\"Creation of directory {} failed\".format(path))\n",
    "    else:\n",
    "        print(\"Successfully created the directory {}\".format(path))"
   ]
  },
  {
   "cell_type": "code",
   "execution_count": null,
   "metadata": {},
   "outputs": [],
   "source": []
  }
 ],
 "metadata": {
  "kernelspec": {
   "display_name": "Python 3",
   "language": "python",
   "name": "python3"
  },
  "language_info": {
   "codemirror_mode": {
    "name": "ipython",
    "version": 3
   },
   "file_extension": ".py",
   "mimetype": "text/x-python",
   "name": "python",
   "nbconvert_exporter": "python",
   "pygments_lexer": "ipython3",
   "version": "3.7.3"
  }
 },
 "nbformat": 4,
 "nbformat_minor": 4
}
