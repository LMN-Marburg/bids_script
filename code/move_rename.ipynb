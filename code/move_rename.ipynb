{
 "cells": [
  {
   "cell_type": "markdown",
   "metadata": {},
   "source": [
    "# Move and Rename\n",
    "\n",
    "This script will move the files to the right folders and rename them according to BIDS."
   ]
  },
  {
   "cell_type": "code",
   "execution_count": 2,
   "metadata": {},
   "outputs": [],
   "source": [
    "import os\n",
    "import shutil"
   ]
  },
  {
   "cell_type": "code",
   "execution_count": 8,
   "metadata": {},
   "outputs": [],
   "source": [
    "# go to right directory (main_data/sourcedata/imaging)\n",
    "os.chdir(\"/media/sf_mikke/Documents/Master/Vertiefung/data/main_data/sourcedata/imaging\")"
   ]
  },
  {
   "cell_type": "code",
   "execution_count": 9,
   "metadata": {},
   "outputs": [
    {
     "data": {
      "text/plain": [
       "'/media/sf_mikke/Documents/Master/Vertiefung/data/main_data/sourcedata/imaging'"
      ]
     },
     "execution_count": 9,
     "metadata": {},
     "output_type": "execute_result"
    }
   ],
   "source": [
    "os.getcwd()"
   ]
  },
  {
   "cell_type": "markdown",
   "metadata": {},
   "source": [
    "The script should\n",
    "\n",
    "- go into each folder (end with their respective subject number)\n",
    "- copy the anatomical, functional, and gray field mapping files to the right folder\n",
    "- rename them so they are in the format\n",
    " - anatomical: sub-01_T1W.nii\n",
    " - functional: sub-01_task-empatom_bold.nii.gz\n",
    " - gray field mapping: sub-01_magnitude1.nii, sub-01_magnitude2.nii, sub-01_phasediff.nii"
   ]
  },
  {
   "cell_type": "code",
   "execution_count": 10,
   "metadata": {},
   "outputs": [
    {
     "name": "stdout",
     "output_type": "stream",
     "text": [
      "['001__localizer', '002__AAHScout', '003__AAHScout', '004__t1_mpr_sag_p2_iso1mm', '005__t1_mpr_sag_p2_iso1mm', '006__ep2d_bold_TR1760_TE27_p2_des_iso35', '007__gre_field_mapping_AP', '008__gre_field_mapping_AP']\n",
      "['001__localizer', '002__AAHScout', '003__AAHScout', '004__t1_mpr_sag_p2_iso1mm', '005__t1_mpr_sag_p2_iso1mm', '006__ep2d_bold_TR1760_TE27_p2_des_iso35', '007__gre_field_mapping_AP', '008__gre_field_mapping_AP']\n"
     ]
    }
   ],
   "source": [
    "files = os.listdir()\n",
    "\n",
    "for f in files[-2:]: #for the last two subjects CHANGE EVERYTIME NEW SUBJECTS ARE ADDED\n",
    "    sub = f[-2:] # the last two letters in the file name are the number of the subject\n",
    "    os.chdir(f)\n",
    "    print(os.listdir())\n",
    "    os.chdir(\"005__t1_mpr_sag_p2_iso1mm\")\n",
    "    anatfiles = os.listdir()\n",
    "    anatsource = anatfiles[1]\n",
    "    anattarget = \"../../../../sub-{}/anat/sub-{}_T1w.nii\".format(sub, sub)\n",
    "    shutil.copy(anatsource, anattarget)\n",
    "    os.chdir(\"../006__ep2d_bold_TR1760_TE27_p2_des_iso35\")\n",
    "    funcfiles = os.listdir()\n",
    "    for fu in funcfiles:\n",
    "        if fu[-1] == \"n\":\n",
    "            funcjsonsource = fu\n",
    "    funcjsontarget = \"../../../../sub-{}/func/sub-{}_task-empatom_bold.json\".format(sub, sub)\n",
    "    funcsource = \"sub-{}_task-empatom_bold.nii.gz\".format(sub)\n",
    "    functarget = \"../../../../sub-{}/func/{}\".format(sub, funcsource)\n",
    "    shutil.copy(funcsource, functarget)\n",
    "    shutil.copy(funcjsonsource, funcjsontarget)\n",
    "    os.chdir(\"../007__gre_field_mapping_AP\")\n",
    "    magfiles = os.listdir()\n",
    "    for m in magfiles:\n",
    "        if m[-5] == \"1\":\n",
    "            mag1source = m\n",
    "        if m[-5] == \"2\":\n",
    "            mag2source = m\n",
    "    mag1target = \"../../../../sub-{}/fmap/sub-{}_magnitude1.nii\".format(sub, sub)\n",
    "    mag2target = \"../../../../sub-{}/fmap/sub-{}_magnitude2.nii\".format(sub, sub)\n",
    "    shutil.copy(mag1source, mag1target)\n",
    "    shutil.copy(mag2source, mag2target)\n",
    "    os.chdir(\"../008__gre_field_mapping_AP\")\n",
    "    phfiles = os.listdir()\n",
    "    for p in phfiles:\n",
    "        if p[-1] == \"i\":\n",
    "            phsource = p\n",
    "        if p[-1] == \"n\":\n",
    "            phjsonsource = p\n",
    "    phtarget = \"../../../../sub-{}/fmap/sub-{}_phasediff.nii\".format(sub, sub)\n",
    "    phjsontarget = \"../../../../sub-{}/fmap/sub-{}_phasediff.json\".format(sub, sub)\n",
    "    shutil.copy(phsource, phtarget)\n",
    "    shutil.copy(phjsonsource, phjsontarget)\n",
    "    os.chdir(\"../../\")"
   ]
  },
  {
   "cell_type": "code",
   "execution_count": null,
   "metadata": {},
   "outputs": [],
   "source": []
  },
  {
   "cell_type": "code",
   "execution_count": null,
   "metadata": {},
   "outputs": [],
   "source": []
  }
 ],
 "metadata": {
  "kernelspec": {
   "display_name": "Python 3",
   "language": "python",
   "name": "python3"
  },
  "language_info": {
   "codemirror_mode": {
    "name": "ipython",
    "version": 3
   },
   "file_extension": ".py",
   "mimetype": "text/x-python",
   "name": "python",
   "nbconvert_exporter": "python",
   "pygments_lexer": "ipython3",
   "version": "3.7.7"
  }
 },
 "nbformat": 4,
 "nbformat_minor": 4
}
